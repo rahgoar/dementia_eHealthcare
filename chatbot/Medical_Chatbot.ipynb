{
 "cells": [
  {
   "cell_type": "code",
   "execution_count": 1,
   "id": "c10b38cc-f6f0-4a71-8812-664a5ecd4586",
   "metadata": {},
   "outputs": [
    {
     "name": "stderr",
     "output_type": "stream",
     "text": [
      "C:\\Users\\pouri\\anaconda3\\envs\\langchain_env\\Lib\\site-packages\\bs4\\builder\\__init__.py:545: XMLParsedAsHTMLWarning: It looks like you're parsing an XML document using an HTML parser. If this really is an HTML document (maybe it's XHTML?), you can ignore or filter this warning. If it's XML, you should know that using an XML parser will be more reliable. To parse this document as XML, make sure you have the lxml package installed, and pass the keyword argument `features=\"xml\"` into the BeautifulSoup constructor.\n",
      "  warnings.warn(\n"
     ]
    }
   ],
   "source": [
    "from bs4 import BeautifulSoup, Tag\n",
    "import os\n",
    "\n",
    "class StructuredXMLLoader:\n",
    "    def __init__(self, file_path):\n",
    "        with open(file_path, 'r') as file:\n",
    "            content = file.read()\n",
    "        self.soup = BeautifulSoup(content, 'lxml')\n",
    "\n",
    "    def load(self):\n",
    "        return self.parse_element(self.soup)\n",
    "\n",
    "    def parse_element(self, element):\n",
    "        if isinstance(element, Tag):\n",
    "            if element.contents:\n",
    "                nested = [self.parse_element(child) for child in element.contents if not isinstance(child, str)]\n",
    "                if nested:\n",
    "                    return {element.name: nested if len(nested) > 1 else nested[0]}\n",
    "                return {element.name: element.text.strip()}\n",
    "            else:\n",
    "                return {element.name: element.text.strip()}\n",
    "        return {}\n",
    "\n",
    "directory = \"./MedQuAD-master/1_CancerGov_QA\"\n",
    "items = os.listdir(directory)\n",
    "files = [directory+'/'+item for item in items if os.path.isfile(os.path.join(directory, item))]\n",
    "all_data = []\n",
    "for file in files:\n",
    "    loader = StructuredXMLLoader(file)\n",
    "    data = loader.load()\n",
    "    all_data.append(data)\n",
    "#data\n",
    "#data['[document]']['html']['body']['document'][2]['qapairs']"
   ]
  },
  {
   "cell_type": "code",
   "execution_count": 2,
   "id": "e6a11bcc-48a9-410a-b5fa-736fc403e4fa",
   "metadata": {},
   "outputs": [],
   "source": [
    "from langchain.docstore.document import Document\n",
    "def extract_qapairs(document):\n",
    "    qapairs = []\n",
    "    # Navigate through the nested structure to the 'qapairs' list\n",
    "    for item in document['[document]']['html']['body']['document']:\n",
    "        if 'focus' in item:\n",
    "            src = item['focus']\n",
    "            \n",
    "        if 'qapairs' in item:\n",
    "            for qapair in item['qapairs']:\n",
    "                try:\n",
    "                    question = qapair['qapair'][0]['question']\n",
    "                    answer = qapair['qapair'][1]['answer']\n",
    "                    qapairs.append(Document(page_content=question+answer, metadata={\"source\": src}))\n",
    "                except:\n",
    "                    pass\n",
    "    return qapairs\n",
    "\n",
    "qapairs = []\n",
    "for data in all_data:\n",
    "    qapairs.extend(extract_qapairs(data))"
   ]
  },
  {
   "cell_type": "code",
   "execution_count": 3,
   "id": "6e233bd1-a0ad-4760-b8c6-d916cd0d3a8a",
   "metadata": {},
   "outputs": [
    {
     "data": {
      "text/plain": [
       "Document(page_content='What is (are) Adult Acute Lymphoblastic Leukemia ?Key Points\\n                    - Adult acute lymphoblastic leukemia (ALL) is a type of cancer in which the bone marrow makes too many lymphocytes (a type of white blood cell).    - Leukemia may affect red blood cells, white blood cells, and platelets.    - Previous chemotherapy and exposure to radiation may increase the risk of developing ALL.    - Signs and symptoms of adult ALL include fever, feeling tired, and easy bruising or bleeding.     - Tests that examine the blood and bone marrow are used to detect (find) and diagnose adult ALL.    - Certain factors affect prognosis (chance of recovery) and treatment options.\\n                \\n                \\n                    Adult acute lymphoblastic leukemia (ALL) is a type of cancer in which the bone marrow makes too many lymphocytes (a type of white blood cell).\\n                    Adult acute lymphoblastic leukemia (ALL; also called acute lymphocytic leukemia) is a cancer of the blood and bone marrow. This type of cancer usually gets worse quickly if it is not treated.\\n                \\n                \\n                    Leukemia may affect red blood cells, white blood cells, and platelets.\\n                    Normally, the bone marrow makes blood stem cells (immature cells) that become mature blood cells over time. A blood stem cell may become a myeloid stem cell or a lymphoid stem cell.   A myeloid stem cell becomes one of three types of mature blood cells:          -  Red blood cells that carry oxygen and other substances to all tissues of the body.    -  Platelets that form blood clots to stop bleeding.    -  Granulocytes (white blood cells) that fight infection and disease.         A lymphoid stem cell becomes a lymphoblast cell and then one of three types of lymphocytes (white blood cells):         -  B lymphocytes that make antibodies to help fight infection.    -  T lymphocytes that help B lymphocytes make the antibodies that help fight infection.    -  Natural killer cells that attack cancer cells and viruses.         In ALL, too many stem cells become lymphoblasts, B lymphocytes, or T lymphocytes. These cells are also called leukemia cells. These leukemia cells are not able to fight infection very well. Also, as the number of leukemia cells increases in the blood and bone marrow, there is less room for healthy white blood cells, red blood cells, and platelets. This may cause infection, anemia, and easy bleeding. The cancer can also spread to the central nervous system (brain and spinal cord).     This summary is about adult acute lymphoblastic leukemia. See the following PDQ summaries for information about other types of leukemia:          -  Childhood Acute Lymphoblastic Leukemia Treatment.    -  Adult Acute Myeloid Leukemia Treatment.    -  Childhood Acute Myeloid Leukemia/Other Myeloid Malignancies Treatment.    -  Chronic Lymphocytic Leukemia Treatment.    -  Chronic Myelogenous Leukemia Treatment.    -  Hairy Cell Leukemia Treatment.', metadata={'source': 'Adult Acute Lymphoblastic Leukemia'})"
      ]
     },
     "execution_count": 3,
     "metadata": {},
     "output_type": "execute_result"
    }
   ],
   "source": [
    "qapairs[0]"
   ]
  },
  {
   "cell_type": "code",
   "execution_count": 4,
   "id": "8e2a275e-ba32-4848-9bbd-d51b08f66786",
   "metadata": {},
   "outputs": [],
   "source": [
    "from langchain_openai import OpenAIEmbeddings\n",
    "from langchain.text_splitter import CharacterTextSplitter, RecursiveCharacterTextSplitter\n",
    "from langchain.vectorstores import DocArrayInMemorySearch\n",
    "from langchain.document_loaders import TextLoader\n",
    "from langchain.chains import RetrievalQA,  ConversationalRetrievalChain\n",
    "from langchain.memory import ConversationBufferMemory\n",
    "from langchain_openai import ChatOpenAI\n",
    "from langchain.document_loaders import TextLoader\n",
    "from langchain.document_loaders import PyPDFLoader\n",
    "from langchain.memory import ConversationSummaryBufferMemory\n",
    "from langchain.chains import ConversationChain"
   ]
  },
  {
   "cell_type": "code",
   "execution_count": 5,
   "id": "4a7a949b-73c0-49f3-aa12-d953b98bc39f",
   "metadata": {},
   "outputs": [],
   "source": [
    "def load_db(qapairs, chain_type, k):\n",
    "    documents = qapairs\n",
    "    \n",
    "    text_splitter = RecursiveCharacterTextSplitter(chunk_size=1000, chunk_overlap=150)\n",
    "    docs = text_splitter.split_documents(documents)\n",
    "    \n",
    "    embeddings = OpenAIEmbeddings()\n",
    "    \n",
    "    db = DocArrayInMemorySearch.from_documents(docs, embeddings)\n",
    "    \n",
    "    retriever = db.as_retriever(search_type=\"similarity\", search_kwargs={\"k\": k})\n",
    "    \n",
    "    llm_name = \"gpt-3.5-turbo\"\n",
    "    qa = ConversationalRetrievalChain.from_llm(\n",
    "        llm=ChatOpenAI(model_name=llm_name, temperature=0), \n",
    "        chain_type=chain_type, \n",
    "        retriever=retriever, \n",
    "        return_source_documents=True,\n",
    "        return_generated_question=True,\n",
    "    )\n",
    "    return qa"
   ]
  },
  {
   "cell_type": "code",
   "execution_count": 6,
   "id": "cda4ac3e-3a83-4bab-84b1-d83c17cdd469",
   "metadata": {},
   "outputs": [
    {
     "name": "stderr",
     "output_type": "stream",
     "text": [
      "C:\\Users\\pouri\\anaconda3\\envs\\langchain_env\\Lib\\site-packages\\pydantic\\_migration.py:283: UserWarning: `pydantic.error_wrappers:ValidationError` has been moved to `pydantic:ValidationError`.\n",
      "  warnings.warn(f'`{import_path}` has been moved to `{new_location}`.')\n"
     ]
    }
   ],
   "source": [
    "qa = load_db(qapairs, \"refine\", 4)"
   ]
  },
  {
   "cell_type": "code",
   "execution_count": 7,
   "id": "76eec136-114b-4ff2-addf-d5f51681461d",
   "metadata": {},
   "outputs": [
    {
     "name": "stderr",
     "output_type": "stream",
     "text": [
      "C:\\Users\\pouri\\anaconda3\\envs\\langchain_env\\Lib\\site-packages\\langchain_core\\_api\\deprecation.py:117: LangChainDeprecationWarning: The function `__call__` was deprecated in LangChain 0.1.0 and will be removed in 0.2.0. Use invoke instead.\n",
      "  warn_deprecated(\n"
     ]
    }
   ],
   "source": [
    "chat_history = []\n",
    "query = \"What can be the stages of Gastrointestinal Stromal Tumors in summary?\"\n",
    "result = qa({\"question\": query, \"chat_history\": chat_history})"
   ]
  },
  {
   "cell_type": "code",
   "execution_count": 8,
   "id": "a63ca89f-a372-4be2-83b8-21ecc7476489",
   "metadata": {},
   "outputs": [
    {
     "name": "stdout",
     "output_type": "stream",
     "text": [
      "The stages of Gastrointestinal Stromal Tumors (GIST) can be summarized as follows:\n",
      "\n",
      "1. Stage I: The tumor is small and localized, with no spread to nearby lymph nodes or distant sites.\n",
      "2. Stage II: The tumor is larger and may have grown into nearby tissues, but has not spread to lymph nodes or distant sites.\n",
      "3. Stage III: The tumor has invaded nearby tissues and may have spread to nearby lymph nodes, but has not metastasized to distant sites.\n",
      "4. Stage IV: The tumor has metastasized to distant sites in the body, such as the liver, lungs, or bones.\n",
      "\n",
      "These stages help determine the extent of the cancer and guide treatment decisions, taking into account factors such as genetic predisposition, symptoms like blood in the stool or vomit, and the size and location of the tumor within the gastrointestinal tract. Treatment options for GIST include surgery, targeted therapy, watchful waiting, and supportive care. Patients may also consider participating in clinical trials to access new types of treatment. Follow-up tests may be necessary to monitor the effectiveness of treatment.\n"
     ]
    }
   ],
   "source": [
    "print(result[\"answer\"])"
   ]
  },
  {
   "cell_type": "code",
   "execution_count": 9,
   "id": "3735e987-7e71-4a87-a311-c202a5c3d181",
   "metadata": {},
   "outputs": [
    {
     "data": {
      "text/plain": [
       "[Document(page_content='What are the stages of Gastrointestinal Stromal Tumors ?Key Points\\n                    - After a gastrointestinal stromal tumor has been diagnosed, tests are done to find out if cancer cells have spread within the gastrointestinal tract or to other parts of the body.    - There are three ways that cancer spreads in the body.    - Cancer may spread from where it began to other parts of the body.    - The results of diagnostic and staging tests are used to plan treatment.\\n                \\n                \\n                    After a gastrointestinal stromal tumor has been diagnosed, tests are done to find out if cancer cells have spread within the gastrointestinal tract or to other parts of the body.', metadata={'source': 'Gastrointestinal Stromal Tumors'}),\n",
       " Document(page_content='What is (are) Gastrointestinal Stromal Tumors ?Key Points\\n                    - Gastrointestinal stromal tumor is a disease in which abnormal cells form in the tissues of the gastrointestinal tract.    - Genetic factors can increase the risk of having a gastrointestinal stromal tumor.     - Signs of gastrointestinal stromal tumors include blood in the stool or vomit.    - Tests that examine the GI tract are used to detect (find) and diagnose gastrointestinal stromal tumors.    - Very small GISTs are common.    - Certain factors affect prognosis (chance of recovery) and treatment options.\\n                \\n                \\n                    Gastrointestinal stromal tumor is a disease in which abnormal cells form in the tissues of the gastrointestinal tract.', metadata={'source': 'Gastrointestinal Stromal Tumors'}),\n",
       " Document(page_content='Gastrointestinal stromal tumor is a disease in which abnormal cells form in the tissues of the gastrointestinal tract.\\n                    The gastrointestinal (GI) tract is part of the bodys digestive system. It helps to digest food and takes nutrients (vitamins, minerals, carbohydrates, fats, proteins, and water) from food so they can be used by the body. The GI tract is made up of the following organs:         -  Stomach.    -  Small intestine.    -  Large intestine (colon).         Gastrointestinal stromal tumors (GISTs) may be malignant (cancer) or benign (not cancer). They are most common in the stomach and small intestine but may be found anywhere in or near the GI tract. Some scientists believe that GISTs begin in cells called interstitial cells of Cajal (ICC), in the wall of the GI tract.      See the PDQ summary about Unusual Cancers of Childhood Treatment for information on the treatment of GIST in children.', metadata={'source': 'Gastrointestinal Stromal Tumors'}),\n",
       " Document(page_content='What are the treatments for Gastrointestinal Stromal Tumors ?Key Points\\n                    - There are different types of treatment for patients with gastrointestinal stromal tumors.    - Four types of standard treatment are used:         - Surgery     - Targeted therapy     - Watchful waiting     - Supportive care        - New types of treatment are being tested in clinical trials.    - Patients may want to think about taking part in a clinical trial.    - Patients can enter clinical trials before, during, or after starting their cancer treatment.    - Follow-up tests may be needed.\\n                \\n                \\n                    There are different types of treatment for patients with gastrointestinal stromal tumors.', metadata={'source': 'Gastrointestinal Stromal Tumors'})]"
      ]
     },
     "execution_count": 9,
     "metadata": {},
     "output_type": "execute_result"
    }
   ],
   "source": [
    "result['source_documents']"
   ]
  },
  {
   "cell_type": "code",
   "execution_count": 10,
   "id": "7463a91d-4b33-424a-97e4-4d975f429fe9",
   "metadata": {},
   "outputs": [
    {
     "name": "stdout",
     "output_type": "stream",
     "text": [
      "['What can be the stages of Gastrointestinal Stromal Tumors in summary?\\nThe stages of Gastrointestinal Stromal Tumors can be summarized as follows:\\n\\n1. Stage I: The tumor is small and localized, with no spread to nearby lymph nodes or distant sites.\\n2. Stage II: The tumor is larger and may have grown into nearby tissues, but has not spread to lymph nodes or distant sites.\\n3. Stage III: The tumor has invaded nearby tissues and may have spread to nearby lymph nodes, but has not metastasized to distant sites.\\n4. Stage IV: The tumor has metastasized to distant sites in the body, such as the liver, lungs, or bones.\\n\\nThese stages help determine the extent of the cancer and guide treatment decisions, taking into account factors such as tumor size, invasion of nearby tissues, lymph node involvement, and distant metastasis. Treatment options for Gastrointestinal Stromal Tumors include surgery, targeted therapy, watchful waiting, and supportive care. Additionally, new types of treatment are being tested in clinical trials, and patients may consider participating in these trials before, during, or after starting their cancer treatment. Follow-up tests may also be necessary to monitor the effectiveness of treatment.']\n"
     ]
    }
   ],
   "source": [
    "chat_history = []\n",
    "while True:\n",
    "    query = \"What can be the stages of Gastrointestinal Stromal Tumors in summary?\"\n",
    "    result = qa({\"question\": query, \"chat_history\": chat_history})\n",
    "    chat_history.append(query + '\\n' + result[\"answer\"])\n",
    "    print(chat_history)\n",
    "    break"
   ]
  },
  {
   "cell_type": "code",
   "execution_count": 18,
   "id": "4cf2bb13-60e5-4b70-b412-88c68ce3c5ef",
   "metadata": {},
   "outputs": [],
   "source": [
    "#"
   ]
  },
  {
   "cell_type": "code",
   "execution_count": 83,
   "id": "5cd4155e-e037-4bf4-ab76-f803c9985fe6",
   "metadata": {},
   "outputs": [],
   "source": [
    "class QA:\n",
    "    def __init__(self):\n",
    "        self.llm_name = \"gpt-3.5-turbo\"\n",
    "        self.llm = ChatOpenAI(model_name=self.llm_name, temperature=0)\n",
    "        self.memory = ConversationSummaryBufferMemory(llm=self.llm, max_token_limit=100, memory_key='chat_history', output_key='answer')\n",
    "        \n",
    "    def load_db(self, qapairs, chain_type, k):\n",
    "        documents = qapairs\n",
    "    \n",
    "        text_splitter = RecursiveCharacterTextSplitter(chunk_size=1000, chunk_overlap=150)\n",
    "        docs = text_splitter.split_documents(documents)\n",
    "        \n",
    "        embeddings = OpenAIEmbeddings()\n",
    "        \n",
    "        db = DocArrayInMemorySearch.from_documents(docs, embeddings)\n",
    "        \n",
    "        retriever = db.as_retriever(search_type=\"similarity\", search_kwargs={\"k\": k})\n",
    "        \n",
    "        self.qa = ConversationalRetrievalChain.from_llm(\n",
    "            llm=self.llm, \n",
    "            chain_type=chain_type, \n",
    "            retriever=retriever, \n",
    "            return_source_documents=True,\n",
    "            return_generated_question=True, \n",
    "            memory = self.memory, \n",
    "            get_chat_history = lambda h : h\n",
    "        )\n",
    "\n",
    "    def run(self, query):\n",
    "        result = self.qa({\"question\": query})\n",
    "        #print(result)\n",
    "        #self.memory.save_context({\"input\": query}, \n",
    "        #                         {\"output\": result[\"answer\"]})\n",
    "        return result"
   ]
  },
  {
   "cell_type": "code",
   "execution_count": 84,
   "id": "ab2f691e-5480-479a-b890-9c65181c30ce",
   "metadata": {},
   "outputs": [],
   "source": [
    "qa = QA()\n",
    "qa.load_db(qapairs, \"stuff\", 4)"
   ]
  },
  {
   "cell_type": "code",
   "execution_count": 85,
   "id": "98578e0b-dca7-4e1a-a4ea-b897ed290401",
   "metadata": {},
   "outputs": [
    {
     "data": {
      "text/plain": [
       "{'question': 'What can be the stages of Gastrointestinal Stromal Tumors in summary?',\n",
       " 'chat_history': '',\n",
       " 'answer': 'The stages of Gastrointestinal Stromal Tumors are determined after diagnosis through tests to find out if cancer cells have spread within the gastrointestinal tract or to other parts of the body. The stages help in planning the treatment.',\n",
       " 'source_documents': [Document(page_content='What are the stages of Gastrointestinal Stromal Tumors ?Key Points\\n                    - After a gastrointestinal stromal tumor has been diagnosed, tests are done to find out if cancer cells have spread within the gastrointestinal tract or to other parts of the body.    - There are three ways that cancer spreads in the body.    - Cancer may spread from where it began to other parts of the body.    - The results of diagnostic and staging tests are used to plan treatment.\\n                \\n                \\n                    After a gastrointestinal stromal tumor has been diagnosed, tests are done to find out if cancer cells have spread within the gastrointestinal tract or to other parts of the body.', metadata={'source': 'Gastrointestinal Stromal Tumors'}),\n",
       "  Document(page_content='What is (are) Gastrointestinal Stromal Tumors ?Key Points\\n                    - Gastrointestinal stromal tumor is a disease in which abnormal cells form in the tissues of the gastrointestinal tract.    - Genetic factors can increase the risk of having a gastrointestinal stromal tumor.     - Signs of gastrointestinal stromal tumors include blood in the stool or vomit.    - Tests that examine the GI tract are used to detect (find) and diagnose gastrointestinal stromal tumors.    - Very small GISTs are common.    - Certain factors affect prognosis (chance of recovery) and treatment options.\\n                \\n                \\n                    Gastrointestinal stromal tumor is a disease in which abnormal cells form in the tissues of the gastrointestinal tract.', metadata={'source': 'Gastrointestinal Stromal Tumors'}),\n",
       "  Document(page_content='Gastrointestinal stromal tumor is a disease in which abnormal cells form in the tissues of the gastrointestinal tract.\\n                    The gastrointestinal (GI) tract is part of the bodys digestive system. It helps to digest food and takes nutrients (vitamins, minerals, carbohydrates, fats, proteins, and water) from food so they can be used by the body. The GI tract is made up of the following organs:         -  Stomach.    -  Small intestine.    -  Large intestine (colon).         Gastrointestinal stromal tumors (GISTs) may be malignant (cancer) or benign (not cancer). They are most common in the stomach and small intestine but may be found anywhere in or near the GI tract. Some scientists believe that GISTs begin in cells called interstitial cells of Cajal (ICC), in the wall of the GI tract.      See the PDQ summary about Unusual Cancers of Childhood Treatment for information on the treatment of GIST in children.', metadata={'source': 'Gastrointestinal Stromal Tumors'}),\n",
       "  Document(page_content='What are the treatments for Gastrointestinal Stromal Tumors ?Key Points\\n                    - There are different types of treatment for patients with gastrointestinal stromal tumors.    - Four types of standard treatment are used:         - Surgery     - Targeted therapy     - Watchful waiting     - Supportive care        - New types of treatment are being tested in clinical trials.    - Patients may want to think about taking part in a clinical trial.    - Patients can enter clinical trials before, during, or after starting their cancer treatment.    - Follow-up tests may be needed.\\n                \\n                \\n                    There are different types of treatment for patients with gastrointestinal stromal tumors.', metadata={'source': 'Gastrointestinal Stromal Tumors'})],\n",
       " 'generated_question': 'What can be the stages of Gastrointestinal Stromal Tumors in summary?'}"
      ]
     },
     "execution_count": 85,
     "metadata": {},
     "output_type": "execute_result"
    }
   ],
   "source": [
    "query = \"What can be the stages of Gastrointestinal Stromal Tumors in summary?\"\n",
    "qa.run(query)"
   ]
  },
  {
   "cell_type": "code",
   "execution_count": 86,
   "id": "9f1391d9-f8e7-4bff-a651-600128c61a88",
   "metadata": {},
   "outputs": [
    {
     "data": {
      "text/plain": [
       "{'question': 'What can you tell me about lung cancer?',\n",
       " 'chat_history': 'Human: What can be the stages of Gastrointestinal Stromal Tumors in summary?\\nAI: The stages of Gastrointestinal Stromal Tumors are determined after diagnosis through tests to find out if cancer cells have spread within the gastrointestinal tract or to other parts of the body. The stages help in planning the treatment.',\n",
       " 'answer': 'Lung cancer is a disease in which malignant (cancer) cells form in the tissues of the lung. It is the leading cause of cancer death in the United States for both men and women. There are two main types of lung cancer: non-small cell lung cancer and small cell lung cancer. Various factors can increase or decrease the risk of developing lung cancer.',\n",
       " 'source_documents': [Document(page_content='What is (are) Lung Cancer ?Key Points\\n                    - Lung cancer is a disease in which malignant (cancer) cells form in the tissues of the lung.    - Lung cancer is the leading cause of cancer death in the United States.    - Different factors increase or decrease the risk of lung cancer.\\n                \\n                \\n                    Lung cancer is a disease in which malignant (cancer) cells form in the tissues of the lung.', metadata={'source': 'Lung Cancer'}),\n",
       "  Document(page_content='Who is at risk for Lung Cancer? ?Key Points', metadata={'source': 'Lung Cancer'}),\n",
       "  Document(page_content='What is (are) Lung Cancer ?Key Points\\n                    - Lung cancer is a disease in which malignant (cancer) cells form in the tissues of the lung.    - Lung cancer is the leading cause of cancer death in both men and women.\\n                \\n                \\n                    Lung cancer is a disease in which malignant (cancer) cells form in the tissues of the lung.', metadata={'source': 'Lung Cancer'}),\n",
       "  Document(page_content='the chest when you breathe.    There are two main types of lung cancer: non-small cell lung cancer and small cell lung cancer.    See the following PDQ summaries for more information about lung cancer:         -  Small Cell Lung Cancer Treatment     -  Unusual Cancers of Childhood Treatment     -  Lung Cancer Prevention     -  Lung Cancer Screening', metadata={'source': 'Non-Small Cell Lung Cancer'})],\n",
       " 'generated_question': 'What can you tell me about lung cancer?'}"
      ]
     },
     "execution_count": 86,
     "metadata": {},
     "output_type": "execute_result"
    }
   ],
   "source": [
    "qa.run('What can you tell me about lung cancer?')"
   ]
  },
  {
   "cell_type": "code",
   "execution_count": 87,
   "id": "5b360351-f5ea-464d-bd23-3c72a171b714",
   "metadata": {},
   "outputs": [
    {
     "data": {
      "text/plain": [
       "{'question': 'What did I ask you about before?',\n",
       " 'chat_history': 'System: The human asks about the stages of Gastrointestinal Stromal Tumors. The AI explains that the stages are determined after diagnosis through tests to see if cancer cells have spread within the gastrointestinal tract or to other parts of the body, and that the stages help in planning the treatment.\\nHuman: What can you tell me about lung cancer?\\nAI: Lung cancer is a disease in which malignant (cancer) cells form in the tissues of the lung. It is the leading cause of cancer death in the United States for both men and women. There are two main types of lung cancer: non-small cell lung cancer and small cell lung cancer. Various factors can increase or decrease the risk of developing lung cancer.',\n",
       " 'answer': 'You asked about where in the body the tumor recurred, how much time passed between the end of cancer treatment and when the cancer recurred, and whether the tumor was treated with radiation therapy.',\n",
       " 'source_documents': [Document(page_content='- Where in the body the tumor recurred (came back).    - How much time passed between the end of cancer treatment and when the cancer recurred.    - Whether the tumor was treated with radiation therapy.', metadata={'source': 'Childhood Rhabdomyosarcoma'}),\n",
       "  Document(page_content='the search by using other search features, such as the location of the trial, the type of treatment, or the name of the drug. Talk with your doctor about clinical trials that may be right for you. General information about clinical trials is available from the NCI website.', metadata={'source': 'Ovarian Low Malignant Potential Tumors'}),\n",
       "  Document(page_content='other search features, such as the location of the trial, the type of treatment, or the name of the drug. Talk with your doctor about clinical trials that may be right for you. General information about clinical trials is available from the NCI website.', metadata={'source': 'Mycosis Fungoides and the Szary Syndrome'}),\n",
       "  Document(page_content='other search features, such as the location of the trial, the type of treatment, or the name of the drug. Talk with your doctor about clinical trials that may be right for you. General information about clinical trials is available from the NCI website.', metadata={'source': 'Mycosis Fungoides and the Szary Syndrome'})],\n",
       " 'generated_question': 'What did you ask me about before?'}"
      ]
     },
     "execution_count": 87,
     "metadata": {},
     "output_type": "execute_result"
    }
   ],
   "source": [
    "qa.run('What did I ask you about before?')"
   ]
  },
  {
   "cell_type": "code",
   "execution_count": 88,
   "id": "20ced12f-dfc6-4a8d-8d1a-87226dfa620c",
   "metadata": {},
   "outputs": [
    {
     "data": {
      "text/plain": [
       "{'question': 'tell me about brain tumor?',\n",
       " 'chat_history': 'System: The human asks about the stages of Gastrointestinal Stromal Tumors. The AI explains that the stages are determined after diagnosis through tests to see if cancer cells have spread within the gastrointestinal tract or to other parts of the body, and that the stages help in planning the treatment. The human then asks about lung cancer, and the AI explains that it is a leading cause of cancer death in the United States with two main types: non-small cell lung cancer and small cell lung cancer. Various factors can increase or decrease the risk of developing lung cancer.\\nHuman: What did I ask you about before?\\nAI: You asked about where in the body the tumor recurred, how much time passed between the end of cancer treatment and when the cancer recurred, and whether the tumor was treated with radiation therapy.',\n",
       " 'answer': \"There are different types of brain tumors, including astrocytic tumors. The treatment options for adult brain tumors can include active surveillance, surgery, radiation therapy, chemotherapy, targeted therapy, and supportive care. New types of treatment like proton beam radiation therapy and biologic therapy are also being tested in clinical trials. For childhood astrocytomas, treatment options may include surgery, observation, radiation therapy, chemotherapy, high-dose chemotherapy with stem cell transplant, targeted therapy, and other drug therapy. Additionally, a cerebrospinal fluid diversion procedure may be done if fluid builds up around the brain and spinal cord. It's important for patients to consider participating in clinical trials as well.\",\n",
       " 'source_documents': [Document(page_content='Treatment Options by Type of Primary Adult Brain Tumor\\n\\t\\t\\t\\t\\t\\t\\t            \\n\\t\\t\\t\\t\\t\\t\\t                \\n\\t\\t\\t\\t\\t\\t\\t                    Astrocytic Tumors', metadata={'source': 'Adult Central Nervous System Tumors'}),\n",
       "  Document(page_content='There are different types of treatment for patients with adult brain and spinal cord tumors.\\n                    Different types of treatment are available for patients with adult brain and spinal cord tumors. Some treatments are standard (the currently used treatment), and some are being tested in clinical trials. A treatment clinical trial is a research study meant to help improve current treatments or obtain information on new treatments for patients with cancer. When clinical trials show that a new treatment is better than the standard treatment, the new treatment may become the standard treatment. Patients may want to think about taking part in a clinical trial. Some clinical trials are open only to patients who have not started treatment.\\n                \\n                \\n                    Five types of standard treatment are used:', metadata={'source': 'Adult Central Nervous System Tumors'}),\n",
       "  Document(page_content='What are the treatments for Adult Central Nervous System Tumors ?Key Points\\n                    - There are different types of treatment for patients with adult brain and spinal cord tumors.     - Five types of standard treatment are used:         - Active surveillance     - Surgery      - Radiation therapy     - Chemotherapy     - Targeted therapy        - Supportive care is given to lessen the problems caused by the disease or its treatment.    - New types of treatment are being tested in clinical trials.          - Proton beam radiation therapy     - Biologic therapy        - Patients may want to think about taking part in a clinical trial.    - Patients can enter clinical trials before, during, or after starting their cancer treatment.    - Follow-up tests may be needed.\\n                \\n                \\n                    There are different types of treatment for patients with adult brain and spinal cord tumors.', metadata={'source': 'Adult Central Nervous System Tumors'}),\n",
       "  Document(page_content='- There are different types of treatment for patients with childhood astrocytoma.    - Children with astrocytomas should have their treatment planned by a team of health care providers who are experts in treating childhood brain tumors.     - Childhood brain tumors may cause signs or symptoms that begin before the cancer is diagnosed and continue for months or years.     - Some cancer treatments cause side effects months or years after treatment has ended.     - Six types of treatment are used:         - Surgery     - Observation     - Radiation therapy     - Chemotherapy     - High-dose chemotherapy with stem cell transplant     - Targeted therapy        -  New types of treatment are being tested in clinical trials.          - Other drug therapy        - If fluid builds up around the brain and spinal cord, a cerebrospinal fluid diversion procedure may be done.    - Patients may want to think about taking part in a clinical trial.    - Patients can enter clinical', metadata={'source': 'Childhood Astrocytomas'})],\n",
       " 'generated_question': 'What are the different types of brain tumors and how are they treated?'}"
      ]
     },
     "execution_count": 88,
     "metadata": {},
     "output_type": "execute_result"
    }
   ],
   "source": [
    "qa.run('tell me about brain tumor?')"
   ]
  },
  {
   "cell_type": "code",
   "execution_count": 89,
   "id": "b7230e71-2163-466c-a8df-7ff6cffb4d31",
   "metadata": {},
   "outputs": [],
   "source": [
    "# implement ground truth and a template for the model to generate based on the documents and do not generate from yourself"
   ]
  },
  {
   "cell_type": "code",
   "execution_count": null,
   "id": "d6d2ccd6-6a26-40db-a0b8-173f33ad6a0a",
   "metadata": {},
   "outputs": [],
   "source": []
  }
 ],
 "metadata": {
  "kernelspec": {
   "display_name": "langchain_env",
   "language": "python",
   "name": "langchain_env"
  },
  "language_info": {
   "codemirror_mode": {
    "name": "ipython",
    "version": 3
   },
   "file_extension": ".py",
   "mimetype": "text/x-python",
   "name": "python",
   "nbconvert_exporter": "python",
   "pygments_lexer": "ipython3",
   "version": "3.12.2"
  }
 },
 "nbformat": 4,
 "nbformat_minor": 5
}
