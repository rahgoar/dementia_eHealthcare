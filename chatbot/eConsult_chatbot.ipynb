{
 "cells": [
  {
   "cell_type": "code",
   "execution_count": 1,
   "id": "c3097ed4",
   "metadata": {},
   "outputs": [],
   "source": [
    "import pandas as pd\n",
    "import re\n",
    "from tqdm import tqdm\n",
    "from langchain_openai import OpenAIEmbeddings\n",
    "from langchain.text_splitter import CharacterTextSplitter, RecursiveCharacterTextSplitter\n",
    "from langchain.vectorstores import DocArrayInMemorySearch\n",
    "from langchain.document_loaders import TextLoader\n",
    "from langchain.chains import RetrievalQA,  ConversationalRetrievalChain\n",
    "from langchain.memory import ConversationBufferMemory\n",
    "from langchain_openai import ChatOpenAI\n",
    "from langchain.document_loaders import TextLoader\n",
    "from langchain.document_loaders import PyPDFLoader\n",
    "from langchain.memory import ConversationSummaryBufferMemory\n",
    "from langchain.chains import ConversationChain\n",
    "from langchain.docstore.document import Document\n",
    "from langchain.prompts import PromptTemplate"
   ]
  },
  {
   "cell_type": "code",
   "execution_count": 1,
   "id": "9116cf76",
   "metadata": {},
   "outputs": [],
   "source": [
    "df = pd.read_excel(\"FinalDementia_11APR2023_v2.xlsx\", sheet_name=\"Final\")\n",
    "df.head(3)"
   ]
  },
  {
   "cell_type": "code",
   "execution_count": 3,
   "id": "aa998ebd",
   "metadata": {},
   "outputs": [
    {
     "data": {
      "text/plain": [
       "'31-Mar-2021 13:17 (Log Summary): (PCP Entry) PCP asked question: Memory concerns - \"word retrieval\". Can\\'t find the words. Reported now always sleeping well - sometimes only 4 hours / hs. However  doesn\\'t relate word finding to sleep.   No reports of pain. Denies pain at present. Famhx - Mother - Alzheimer\\'s dx. Father\\'s side of family - \"a lot of dementia\".  Recent death of husband in LTC related to progressive dementia.  Supportive son Scott with house chores. Lives on her own.  Retired teacher.  Significant hx - fall in garage January 2021 - small left vertex intracranial hemorrhage/ contusion. Symptoms of numbness to left side of face resolved. Reporting occasional headache temporal areas. No visual changes, specifically no diplopia. No nv. No muscle weakness, numbness or tingling.   O/ Alert and oriented to person, place, time, season. Looks well. Good eye contact. Normal rate of speech and fluency at this time. Thoughts seem organized, but reporting can  \"lose track\" of what she is talking about. No echolalia noted today. Skin warm dry, cr N.  BP 138/79. HR RRR 76. RR 16 even. Forgot to get her wt - fu next appt.  CN 2-12 tested intact. Neg romberg. Neg drift. DTR 1+ patellar/ankle, DTR 2 bicep/tricep - symmetrical.  PERRL. EOM N. PERRL. OP N. No lesions. No tongue deviation. MMM. Facial symmetry present. Sensory not tested today although reports no numbness, tingling or paresthesias - did have after fall - resolved after 2 weeks.  HS - 2nd right ICS murmur 2/6 ? aortic. Non-radiating. Chest clear to bases.  Lower and upper ext equal strength. Tone N.  Mini-cog - able to recall 3 words - chair, banana and sunset initially - unable to recall at  5 minutes - only 2/3 - banana and sunset. Able to draw correct numbers on clock. Unable to place hands correctly - pointing at the 11 position only. Asked to display time - set hands to 10 past 11.  Word recall - 2/3 Clock 0/2.  Total score 2/5 mini-cog.  Plan 1. ECG 2. Echocardiogram 3. Screening labs - req given.  4. Consult neurology ? ABI vs MCI vs early dementia.  5. Consider referral to Memory Clinic.  6. Fu need for further imaging after consulting with neurology  ? repeat CT scan vs MRI.  Discussed above with Dorothy and will fu in the next 2 weeks.   Question - I am considering ABI vs MCI / early dementia. She reported feeling well prior to fall therefore considering ABI - although significant stressor - COVID19 isolation, death of husband in LTC. Advise need for inperson assessment with neurology vs additional imaging - repeat CT vs MRI ?\\n31-Mar-2021 13:17 (Log Summary): (PCP Entry) eConsult created\\n31-Mar-2021 13:34 (Log Summary): (Assigner Entry) eConsult assigned\\n31-Mar-2021 13:42 (20Min Reason):\\n31-Mar-2021 13:42 (Log Summary): (Specialist Entry) Specialist requested referral: Yes i agree the question is ABI vs some form of dementia. There is a rare condition called Primary Progressive Aphasia that can present this way. It is one of the FTLD’s (fronto-temporal lobular degenerations) and, as such, there is often a strong family hx of dementia. The Bruyere memory disorder clinic is where she should be assessed and they will likely run in depth neuropsychological testing. An MRI will be helpful, as well as things like TSH, B12 etc\\n31-Mar-2021 13:42 (Log Summary): (Specialist Entry) Specialist requested referral reason: As above, memory disorder clinic for query primary progressive aphasia/FTLD\\n31-Mar-2021 16:34 (Log Summary): (PCP Entry) PCP Closed Request: PCP will make referral\\n'"
      ]
     },
     "execution_count": 3,
     "metadata": {},
     "output_type": "execute_result"
    }
   ],
   "source": [
    "df['Log Details'][0]"
   ]
  },
  {
   "cell_type": "code",
   "execution_count": 4,
   "id": "dba33e6b",
   "metadata": {},
   "outputs": [],
   "source": [
    "dtf = df['Log Details']"
   ]
  },
  {
   "cell_type": "code",
   "execution_count": 5,
   "id": "8a7c943d",
   "metadata": {},
   "outputs": [],
   "source": [
    "pcp_pattern = re.compile(r'\\(PCP Entry\\)(.*?)(?=\\(\\w+ Entry\\)|$)', re.DOTALL)\n",
    "specialist_pattern = re.compile(r'\\(Specialist Entry\\)(.*?)(?=\\(\\w+ Entry\\)|$)', re.DOTALL)\n",
    "\n",
    "def clean_text(extracted_text_list):\n",
    "    cleaned_texts = []\n",
    "    for extracted_text in extracted_text_list:\n",
    "        cleaned_text = extracted_text.strip()\n",
    "        # Remove any log-like patterns within the text\n",
    "        cleaned_text = re.sub(r'\\d{2}-\\w{3}-\\d{4} \\d{2}:\\d{2}', '', cleaned_text)\n",
    "        cleaned_text = re.sub(r'\\(.*?\\):', '', cleaned_text)\n",
    "        cleaned_text = re.sub(r'(PCP asked question|PCP Closed Request|Specialist requested referral|PCP will make referral):', '', cleaned_text)\n",
    "        cleaned_text = re.sub(r'\\n+', '\\n', cleaned_text).strip()\n",
    "        cleaned_texts.append(cleaned_text)\n",
    "    return cleaned_texts"
   ]
  },
  {
   "cell_type": "code",
   "execution_count": 6,
   "id": "833edc59",
   "metadata": {},
   "outputs": [
    {
     "name": "stderr",
     "output_type": "stream",
     "text": [
      "100%|██████████████████████████████████████████████████████████████████████████████| 489/489 [00:00<00:00, 1702.13it/s]\n"
     ]
    }
   ],
   "source": [
    "q_a_df = {'pcp': [], 'spc': []}\n",
    "\n",
    "for text in tqdm(dtf):\n",
    "    pcp_entries = pcp_pattern.findall(text)\n",
    "    specialist_entries = specialist_pattern.findall(text)\n",
    "\n",
    "    cleaned_pcp_entries = clean_text(pcp_entries)\n",
    "    cleaned_specialist_entries = clean_text(specialist_entries)\n",
    "    \n",
    "    s = ''\n",
    "    for text in cleaned_pcp_entries:\n",
    "        s += text\n",
    "    q_a_df['pcp'].append(s)\n",
    "       \n",
    "    s = ''\n",
    "    for text in cleaned_specialist_entries:\n",
    "        s += text\n",
    "    q_a_df['spc'].append(s)\n",
    "\n",
    "q_a_df = pd.DataFrame(q_a_df)\n",
    "# print(\"PCP Entries:\")\n",
    "# for entry_type, text in cleaned_pcp_entries:\n",
    "#     print(f\"{entry_type}: {text}\")\n",
    "#     print(\"\\n\" + \"-\"*80 + \"\\n\")\n",
    "\n",
    "# print(\"Specialist Entries:\")\n",
    "# for text in cleaned_specialist_entries:\n",
    "#     print(text)\n",
    "#     print(\"\\n\" + \"-\"*80 + \"\\n\")"
   ]
  },
  {
   "cell_type": "code",
   "execution_count": 7,
   "id": "670e5d68",
   "metadata": {},
   "outputs": [
    {
     "data": {
      "text/html": [
       "<div>\n",
       "<style scoped>\n",
       "    .dataframe tbody tr th:only-of-type {\n",
       "        vertical-align: middle;\n",
       "    }\n",
       "\n",
       "    .dataframe tbody tr th {\n",
       "        vertical-align: top;\n",
       "    }\n",
       "\n",
       "    .dataframe thead th {\n",
       "        text-align: right;\n",
       "    }\n",
       "</style>\n",
       "<table border=\"1\" class=\"dataframe\">\n",
       "  <thead>\n",
       "    <tr style=\"text-align: right;\">\n",
       "      <th></th>\n",
       "      <th>pcp</th>\n",
       "      <th>spc</th>\n",
       "    </tr>\n",
       "  </thead>\n",
       "  <tbody>\n",
       "    <tr>\n",
       "      <th>0</th>\n",
       "      <td>Memory concerns - \"word retrieval\". Can't find...</td>\n",
       "      <td>Yes i agree the question is ABI vs some form o...</td>\n",
       "    </tr>\n",
       "    <tr>\n",
       "      <th>1</th>\n",
       "      <td>Ms. Timmons is an 81 year old female who is a ...</td>\n",
       "      <td>Specialist provided recommendation of: Thank y...</td>\n",
       "    </tr>\n",
       "    <tr>\n",
       "      <th>2</th>\n",
       "      <td>Thank you for your opinion/recommendations reg...</td>\n",
       "      <td>Specialist provided recommendation of: It is v...</td>\n",
       "    </tr>\n",
       "    <tr>\n",
       "      <th>3</th>\n",
       "      <td>Thank you for your opinion regarding this 88 y...</td>\n",
       "      <td>Specialist provided recommendation of: It was ...</td>\n",
       "    </tr>\n",
       "    <tr>\n",
       "      <th>4</th>\n",
       "      <td>Dear Dr., Thank you for your guidance in this ...</td>\n",
       "      <td>Specialist requested more info: Hi, very diffi...</td>\n",
       "    </tr>\n",
       "    <tr>\n",
       "      <th>...</th>\n",
       "      <td>...</td>\n",
       "      <td>...</td>\n",
       "    </tr>\n",
       "    <tr>\n",
       "      <th>484</th>\n",
       "      <td>A few months ago, this 84 yo patient had an ec...</td>\n",
       "      <td>Specialist provided recommendation of: Thank y...</td>\n",
       "    </tr>\n",
       "    <tr>\n",
       "      <th>485</th>\n",
       "      <td>This 73-year-old gentleman had an unprovoked D...</td>\n",
       "      <td>Specialist provided recommendation of: Dr. Bec...</td>\n",
       "    </tr>\n",
       "    <tr>\n",
       "      <th>486</th>\n",
       "      <td>Appreciate your recommendation of a sleeping m...</td>\n",
       "      <td>Specialist provided recommendation of: Hello D...</td>\n",
       "    </tr>\n",
       "    <tr>\n",
       "      <th>487</th>\n",
       "      <td>Could you please provide guidance for George, ...</td>\n",
       "      <td>Specialist requested more info: Hi Dr. Eberhar...</td>\n",
       "    </tr>\n",
       "    <tr>\n",
       "      <th>488</th>\n",
       "      <td>Thank you for your opinion regarding this pati...</td>\n",
       "      <td>Specialist provided recommendation of: Dear Do...</td>\n",
       "    </tr>\n",
       "  </tbody>\n",
       "</table>\n",
       "<p>489 rows × 2 columns</p>\n",
       "</div>"
      ],
      "text/plain": [
       "                                                   pcp  \\\n",
       "0    Memory concerns - \"word retrieval\". Can't find...   \n",
       "1    Ms. Timmons is an 81 year old female who is a ...   \n",
       "2    Thank you for your opinion/recommendations reg...   \n",
       "3    Thank you for your opinion regarding this 88 y...   \n",
       "4    Dear Dr., Thank you for your guidance in this ...   \n",
       "..                                                 ...   \n",
       "484  A few months ago, this 84 yo patient had an ec...   \n",
       "485  This 73-year-old gentleman had an unprovoked D...   \n",
       "486  Appreciate your recommendation of a sleeping m...   \n",
       "487  Could you please provide guidance for George, ...   \n",
       "488  Thank you for your opinion regarding this pati...   \n",
       "\n",
       "                                                   spc  \n",
       "0    Yes i agree the question is ABI vs some form o...  \n",
       "1    Specialist provided recommendation of: Thank y...  \n",
       "2    Specialist provided recommendation of: It is v...  \n",
       "3    Specialist provided recommendation of: It was ...  \n",
       "4    Specialist requested more info: Hi, very diffi...  \n",
       "..                                                 ...  \n",
       "484  Specialist provided recommendation of: Thank y...  \n",
       "485  Specialist provided recommendation of: Dr. Bec...  \n",
       "486  Specialist provided recommendation of: Hello D...  \n",
       "487  Specialist requested more info: Hi Dr. Eberhar...  \n",
       "488  Specialist provided recommendation of: Dear Do...  \n",
       "\n",
       "[489 rows x 2 columns]"
      ]
     },
     "execution_count": 7,
     "metadata": {},
     "output_type": "execute_result"
    }
   ],
   "source": [
    "q_a_df"
   ]
  },
  {
   "cell_type": "code",
   "execution_count": 8,
   "id": "2bb39c38",
   "metadata": {},
   "outputs": [],
   "source": [
    "qapairs = []\n",
    "\n",
    "for row in q_a_df.iterrows():\n",
    "    qapairs.append(Document(page_content=row[1]['pcp']+'\\n'+row[1]['spc']))"
   ]
  },
  {
   "cell_type": "code",
   "execution_count": null,
   "id": "07ea4847",
   "metadata": {},
   "outputs": [],
   "source": []
  },
  {
   "cell_type": "code",
   "execution_count": 9,
   "id": "bbf89370",
   "metadata": {},
   "outputs": [],
   "source": [
    "class QA:\n",
    "    def __init__(self):\n",
    "        self.llm_name = \"gpt-4o\"\n",
    "        self.llm = ChatOpenAI(model_name=self.llm_name, temperature=0)\n",
    "        self.memory = ConversationSummaryBufferMemory(llm=self.llm, max_token_limit=100, memory_key='chat_history', output_key='answer')\n",
    "        self.chain_of_thought_prompt = PromptTemplate(\n",
    "            input_variables=[\"question\"],\n",
    "            template=(\n",
    "                \"Let's think through this step by step to arrive at the best possible answer.\\n\"\n",
    "                \"I want you to think that you are the specialist and are providing the answer.\\n\"\n",
    "                \"Question: {question}\\n\"\n",
    "                \"Step 1: Understand the context and background of the question.\\n\"\n",
    "                \"Step 2: Identify the key components and variables involved.\\n\"\n",
    "                \"Step 3: Explore different perspectives and potential solutions.\\n\"\n",
    "                \"Step 4: Evaluate the pros and cons of each solution.\\n\"\n",
    "                \"Step 5: Summarize the findings and provide a comprehensive answer.\\n\"\n",
    "                \"Do not include your thinking in the final answer. Answer like a pro.\"\n",
    "                \"Answer:\"\n",
    "            )\n",
    "        )\n",
    "        \n",
    "    def load_db(self, qapairs, chain_type, k):\n",
    "        documents = qapairs\n",
    "    \n",
    "        text_splitter = RecursiveCharacterTextSplitter(chunk_size=1000, chunk_overlap=150)\n",
    "        docs = text_splitter.split_documents(documents)\n",
    "        \n",
    "        embeddings = OpenAIEmbeddings()\n",
    "        \n",
    "        db = DocArrayInMemorySearch.from_documents(docs, embeddings)\n",
    "        \n",
    "        retriever = db.as_retriever(search_type=\"similarity\", search_kwargs={\"k\": k})\n",
    "        \n",
    "        self.qa = ConversationalRetrievalChain.from_llm(\n",
    "            llm=self.llm, \n",
    "            chain_type=chain_type, \n",
    "            retriever=retriever, \n",
    "            return_source_documents=True,\n",
    "            return_generated_question=True, \n",
    "            memory = self.memory, \n",
    "            get_chat_history = lambda h : h\n",
    "        )\n",
    "\n",
    "    def invoke(self, query):\n",
    "        chain_of_thought_query = self.chain_of_thought_prompt.format(question=query)\n",
    "        \n",
    "        result = self.qa({\"question\": chain_of_thought_query})\n",
    "        \n",
    "        #print(result)\n",
    "        #self.memory.save_context({\"input\": query}, \n",
    "        #                         {\"output\": result[\"answer\"]})\n",
    "        return result"
   ]
  },
  {
   "cell_type": "code",
   "execution_count": 10,
   "id": "128e18e9",
   "metadata": {},
   "outputs": [
    {
     "name": "stderr",
     "output_type": "stream",
     "text": [
      "C:\\Users\\pouri\\anaconda3\\envs\\langchain_env\\Lib\\site-packages\\pydantic\\_migration.py:283: UserWarning: `pydantic.error_wrappers:ValidationError` has been moved to `pydantic:ValidationError`.\n",
      "  warnings.warn(f'`{import_path}` has been moved to `{new_location}`.')\n"
     ]
    },
    {
     "name": "stdout",
     "output_type": "stream",
     "text": [
      "CPU times: total: 14.8 s\n",
      "Wall time: 38.7 s\n"
     ]
    }
   ],
   "source": [
    "%%time\n",
    "qa = QA()\n",
    "qa.load_db(qapairs, \"stuff\", 3)"
   ]
  },
  {
   "cell_type": "code",
   "execution_count": 11,
   "id": "56c0c1ec",
   "metadata": {},
   "outputs": [
    {
     "name": "stderr",
     "output_type": "stream",
     "text": [
      "C:\\Users\\pouri\\anaconda3\\envs\\langchain_env\\Lib\\site-packages\\langchain_core\\_api\\deprecation.py:119: LangChainDeprecationWarning: The method `Chain.__call__` was deprecated in langchain 0.1.0 and will be removed in 0.2.0. Use invoke instead.\n",
      "  warn_deprecated(\n"
     ]
    },
    {
     "data": {
      "text/plain": [
       "{'question': \"Let's think through this step by step to arrive at the best possible answer.\\nI want you to think that you are the specialist and are providing the answer.\\nQuestion: With the frequent PVCs is it still safe to prescribe a QT prolonging medication to help with his dementia ie aricept? \\nStep 1: Understand the context and background of the question.\\nStep 2: Identify the key components and variables involved.\\nStep 3: Explore different perspectives and potential solutions.\\nStep 4: Evaluate the pros and cons of each solution.\\nStep 5: Summarize the findings and provide a comprehensive answer.\\nDo not include your thinking in the final answer. Answer like a pro.Answer:\",\n",
       " 'chat_history': '',\n",
       " 'answer': \"Based on the previous Holter monitor results, the QTc of the sinus beats was normal. Therefore, it is reasonable to start Aricept (donepezil) for his dementia. However, it is important to monitor the QTc interval closely due to the patient's frequent PVCs. I recommend starting Aricept and repeating an ECG one week after initiation to reassess the QTc of non-PVC beats. If the QTc remains within normal limits, you can continue the medication with periodic monitoring. If there are any concerns or if the QTc prolongs, consider alternative treatments or consult a cardiologist for further guidance.\",\n",
       " 'source_documents': [Document(page_content='I have seen this 73 y/o man who is being worked up for dementia as well as for frequent PVCs. I am wondering with the frequent PVCs is it still safe to prescribe a QT prolonging medication to help with his dementia ie aricept? I have attached his cardiology work-up and do not have a current QTc. Sincerely, Sarina Ghent NeConsult createdPCP accepted recommendation\\nSpecialist provided recommendation of: This patient underwent a full, virtual consultation with one of my colleagues, Nadine Gauthier, on June 21, 2021. I did review her note, briefly. She has scheduled further investigations. In the interest of continuity of care and uniformity of advice, I suggest that this question be directed to her and not to the e-consult service. Ron Vexler'),\n",
       "  Document(page_content='Dear Dr. Gauthier:   I have seen this 73 y/o man who is being worked up for dementia as well as for frequent PVCs. I am wondering with the frequent PVCs is it still safe to prescribe a QT prolonging medication to help with his dementia ie aricept? I have attached his cardiology work-up and do not have a current QTc. Sincerely, Sarina Ghent NPeConsult createdPCP accepted recommendation\\nSpecialist provided recommendation of: Hello, sorry for the delay of my response , I have was on service at OHI. Bases on previous Holter, the QTc of the sinus beats was normal. I recommend starting Aricept and repeat ECG 1 week after to reassess QTc of non-PVC beats. I would be happy to reassess him at MCC if needed.'),\n",
       "  Document(page_content=\"then increase the dose - I personally don't go much higher than 150mg. If you find you are using higher doses, would be worth getting an ECG to check his QTc.  Even safer, which some people get benefit from and others don't, is trying melatonin (there is a theory with dementia that the hormones that tell you when to go to sleep and when to wake up are all out of whack). If neither of these work, using some of the anti-psychotics would be tricky as you have correctly identified his vascular history would make it more risky. HOWEVER, for context, he has a progressive and incurable illness with his dementia anyways, if we step back and aim for quality of life, then sometimes trialing of a low dose of seroquel might make sense in the bigger picture.  Finally, I am putting in the link to a series of dementia care videos made at UCLA, I find they are really helpful for getting some other non-pharmacological tricks as far and away the non-pharm stuff often does work better for the dementia\")],\n",
       " 'generated_question': \"Let's think through this step by step to arrive at the best possible answer.\\nI want you to think that you are the specialist and are providing the answer.\\nQuestion: With the frequent PVCs is it still safe to prescribe a QT prolonging medication to help with his dementia ie aricept? \\nStep 1: Understand the context and background of the question.\\nStep 2: Identify the key components and variables involved.\\nStep 3: Explore different perspectives and potential solutions.\\nStep 4: Evaluate the pros and cons of each solution.\\nStep 5: Summarize the findings and provide a comprehensive answer.\\nDo not include your thinking in the final answer. Answer like a pro.Answer:\"}"
      ]
     },
     "execution_count": 11,
     "metadata": {},
     "output_type": "execute_result"
    }
   ],
   "source": [
    "query = \"With the frequent PVCs is it still safe to prescribe a QT prolonging medication to help with his dementia ie aricept? \"\n",
    "qa.invoke(query)"
   ]
  },
  {
   "cell_type": "code",
   "execution_count": 12,
   "id": "e5febba6",
   "metadata": {},
   "outputs": [
    {
     "data": {
      "text/plain": [
       "{'question': \"Let's think through this step by step to arrive at the best possible answer.\\nI want you to think that you are the specialist and are providing the answer.\\nQuestion: This man is on donepezil for several years. He has continued to decline, especially over the past year with increasing incontinence, behavioural aggression, and reduced mobility.   I listened with interest of a study that reports that combination of Vit A and gemfibrozil yielded positive results in cognition of dementia patients.   Can you please comment and whether this might be worthwhile trying in our dementia patients, either separately or in combination?\\nStep 1: Understand the context and background of the question.\\nStep 2: Identify the key components and variables involved.\\nStep 3: Explore different perspectives and potential solutions.\\nStep 4: Evaluate the pros and cons of each solution.\\nStep 5: Summarize the findings and provide a comprehensive answer.\\nDo not include your thinking in the final answer. Answer like a pro.Answer:\",\n",
       " 'chat_history': 'System: The human asks the AI to think step by step like a specialist to determine if it is safe to prescribe a QT prolonging medication, Aricept, for a patient with frequent PVCs. The AI concludes that it is reasonable to start Aricept based on normal QTc results from previous Holter monitor tests but advises close monitoring of the QTc interval, recommending an ECG one week after starting the medication and periodic monitoring thereafter. If QTc prolongs, alternative treatments or a cardiologist consultation should be considered.',\n",
       " 'answer': 'Thank you for your question. Based on the information provided, it appears that the study you are referring to was conducted on mice, not humans. While findings in animal models can be promising, they often do not replicate in human studies due to the complexity and heterogeneity of diseases like dementia.\\n\\nCurrently, there are no definitive studies showing benefits of Vitamin A supplementation or gemfibrozil in the treatment of dementia in humans. The Canadian Consensus Conference on the Diagnosis and Treatment of Dementia has not included these treatments in their comprehensive guidance for managing dementia.\\n\\nGiven the lack of strong evidence supporting the use of Vitamin A and gemfibrozil for dementia in humans, it may not be advisable to try these treatments at this time. Instead, focusing on well-established management strategies, such as controlling vascular risk factors (e.g., blood pressure), may be more beneficial. Additionally, ensuring that the patient has adequate support and strategies to manage behavioral symptoms and incontinence is crucial.\\n\\nIf you have access to the specific study, you could share it with a specialist for further review. However, based on current evidence, it is unlikely that these treatments would be recommended for dementia patients.',\n",
       " 'source_documents': [Document(page_content=\"This 87 year old gentleman has been diagnosed with dementia and is on donepezil for several years. He has continued to decline, especially over the past year with increasing incontinence, behavioural aggression, and reduced mobility.   I listened with interest of a study that reports that combination of Vit A and gemfibrozil yielded positive results in cognition of dementia patients.   Can you please comment and whether this might be worthwhile trying in our dementia patients, either separately or in combination?   Thank you and I look forward to hearing back from you.eConsult createdPCP asked add'l question: You are indeed correct - it looks like the study was in reference to mice.  https://medicalxpress.com/news/2021-11-treatment-alzheimer-pharmacy-shelves-decades.htmlPCP accepted recommendation\"),\n",
       "  Document(page_content=\"Specialist provided recommendation of: Hi there, Thank you for your consult. I must confess that I have not heard of this study, but did do a little of research, and did not find this paper. Please send it on to me if you want.  In general terms, there are often findings in the lab or in mouse models of Alzheimer's which never seem to replicate in humans, likely reflecting the heterogeneity of the disease. In my review of evidence, there remains no definitive studies showing benefits of any vitamin supplementation (however, always a good idea to supplement a vitamin if you are found to be deficient).  While there is hints of evidence of adequate management of vascular risk factors (specifically blood pressure) to reduce the conversion of MCI to dementia (and then perhaps extrapolated to slow cognitive decline) I am also not aware of any specific studies with gemfibrozil. The Canadian Consensus Conference of treatment and diagnosis of Dementia did publish their comprehensive guidance\"),\n",
       "  Document(page_content=\"specific studies with gemfibrozil. The Canadian Consensus Conference of treatment and diagnosis of Dementia did publish their comprehensive guidance last summer on the best management to prevention of/reducing progression of dementia - https://alz-journals.onlinelibrary.wiley.com/doi/full/10.1002/alz.12105 - see Table 6 and Table 7 I usually print these for patients and their family members.  Sorry to not provide a more specific answer, happy to read over the report if you can send along. Otherwise, for this gentleman it does sound like his dementia is progressing, which is always challenging. Hopefully there is support is in place and there are strategies to manage the behaviors. A referral to the dementia society might be helpful for the caregivers to gain tips on management of incontinence and behaviors.Specialist provided recommendation of: Thanks for sending through! I heard this researcher advocate that we should actually call it 'Mousezhemers' - because it seems to be a\")],\n",
       " 'generated_question': 'This man is on donepezil for several years. He has continued to decline, especially over the past year with increasing incontinence, behavioural aggression, and reduced mobility. I listened with interest to a study that reports that a combination of Vitamin A and gemfibrozil yielded positive results in the cognition of dementia patients. Can you please comment on whether this might be worthwhile trying in our dementia patients, either separately or in combination?'}"
      ]
     },
     "execution_count": 12,
     "metadata": {},
     "output_type": "execute_result"
    }
   ],
   "source": [
    "query = \"This man is on donepezil for several years. He has continued to decline, especially over the past year with increasing incontinence, behavioural aggression, and reduced mobility.   I listened with interest of a study that reports that combination of Vit A and gemfibrozil yielded positive results in cognition of dementia patients.   Can you please comment and whether this might be worthwhile trying in our dementia patients, either separately or in combination?\"\n",
    "qa.invoke(query)"
   ]
  },
  {
   "cell_type": "code",
   "execution_count": 13,
   "id": "c5c19f11",
   "metadata": {},
   "outputs": [
    {
     "data": {
      "text/plain": [
       "{'question': \"Let's think through this step by step to arrive at the best possible answer.\\nI want you to think that you are the specialist and are providing the answer.\\nQuestion: Help me with pain control in this 87 year old woman with severe peripheral vascular disease/critical limb ischemia while she awaits further vascular intervention. The pain in her left foot is causing significant reduction in quality of life and is waking her from sleep.   Acetaminophen is not effective to control the pain.\\nStep 1: Understand the context and background of the question.\\nStep 2: Identify the key components and variables involved.\\nStep 3: Explore different perspectives and potential solutions.\\nStep 4: Evaluate the pros and cons of each solution.\\nStep 5: Summarize the findings and provide a comprehensive answer.\\nDo not include your thinking in the final answer. Answer like a pro.Answer:\",\n",
       " 'chat_history': 'System: The human asks the AI to think step by step like a specialist to determine if it is safe to prescribe a QT prolonging medication, Aricept, for a patient with frequent PVCs. The AI concludes that it is reasonable to start Aricept based on normal QTc results from previous Holter monitor tests but advises close monitoring of the QTc interval, recommending an ECG one week after starting the medication and periodic monitoring thereafter. If QTc prolongs, alternative treatments or a cardiologist consultation should be considered.\\n\\nThe human then asks the AI to think step by step as a specialist to evaluate the potential use of Vitamin A and gemfibrozil for a dementia patient who has been on donepezil for several years but has continued to decline. The AI responds that the study mentioned was conducted on mice, not humans, and there are no definitive studies showing benefits of Vitamin A or gemfibrozil for dementia in humans. It advises against trying these treatments due to the lack of strong evidence and recommends focusing on well-established management strategies and ensuring adequate support for the patient.',\n",
       " 'answer': \"Given the severity of the pain and the limited effectiveness of acetaminophen, codeine, and tramadol, as well as the inability to use NSAIDs and intolerance to Lyrica (pregabalin) and gabapentin, managing this patient's pain can be challenging. Here are some potential options to consider:\\n\\n1. **Opioid Analgesics**: Since codeine and tramadol were not effective, stronger opioids such as morphine, oxycodone, or hydromorphone might be considered. These should be used with caution, especially given her age and potential for side effects, including sedation and respiratory depression. A pain management or palliative care specialist can help titrate the dose appropriately.\\n\\n2. **Topical Analgesics**: Topical treatments such as lidocaine patches or capsaicin cream may provide some localized pain relief with fewer systemic side effects.\\n\\n3. **Adjunctive Medications**: Although she has not tolerated gabapentin or pregabalin, other adjunctive medications such as low-dose amitriptyline or nortriptyline might be considered, keeping in mind the potential for anticholinergic side effects, especially in the context of her dementia.\\n\\n4. **Non-Pharmacological Interventions**: Techniques such as transcutaneous electrical nerve stimulation (TENS), acupuncture, or physical therapy might provide some relief and improve her quality of life.\\n\\n5. **Palliative Care Consultation**: Engaging a palliative care team can be very beneficial in managing complex pain and providing holistic care, including psychological support and advanced care planning.\\n\\n6. **Revascularization and Surgical Options**: While awaiting further vascular intervention, it is crucial to keep in close contact with the vascular surgery team to expedite any possible revascularization procedures. If revascularization is not feasible, discussing the possibility of amputation and its implications with the patient and her family might be necessary.\\n\\nGiven the complexity of her case, a multidisciplinary approach involving pain specialists, palliative care, and vascular surgery is recommended to optimize her pain management and overall care.\",\n",
       " 'source_documents': [Document(page_content='Please help me with pain control in this 87 year old woman with severe peripheral vascular disease/critical limb ischemia while she awaits further vascular intervention. The pain in her left foot is causing significant reduction in quality of life and is waking her from sleep.   Acetaminophen is not effective to control the pain. Addition of codeine and then tramadol were also not effective. She cannot take NSAIDs.  Of note, she has been unable to tolerate lyrica or gabapentin in the past due to s/e, drowsy.   PAST MEDICAL HISTORY: Rheumatoid arthritis. Hypertension. Dyslipidemia. Hypothyroidism. Osteoporosis. Dementia  Severe peripheral vascular disease.  Meds:  Methotrexate 5mg weekly with folic acid Synthroid 75mcg daily  Ramipril 5mg daily  Bisoprolol 5mg daily  Rosuvastatin 10mg daily   She has normal Cr and an eGFR of 59. Her daughter lives with her and administers her medications.  Thank you very much for your help, given her age and ischemic nature of pain I am not sure what to'),\n",
       "  Document(page_content='Dear Dr.  I am writing about this 75 year old woman who has longstanding neuropathy in both feet as well as cramping in her calves and feet that stops her from walking after approximately 10 minutes. Susan has a history of HTN, COPD, mild cognitive impairment, and alcohol use disorder which she reports has been in remission for the past month. She is currently a non-smoker, but has a 40 pack year history of smoking.  her medications presently are: ventolin pantolac amlodipine 5mg BID Spiriva ramipril 10 mg BID ASA 81 mg daily escitalopram 10mg Thiamine 100mg once daily  Susan has recently undergone arterial Doppler studies of her legs in response to the calf cramping pain as well as her bilateral foot neuropathy. I have attached this report which reveals multifocal, multivessel, atherosclerotic changes, but no discrete stenosis. It was in response to this study that I initiated the ASA.   Her lab work is essentially normal and her lipids are as follows: CHOL: 6.52 mmol/l TG: 1.22 HDL:'),\n",
       "  Document(page_content=\"Specialist provided recommendation of: That foot is ischemic. The only possible hope for it to improve would be if there is a correctable macrovascular lesion, and the patient/SDM agree to pursue revascularization. Even that is not a guarantee - in all likelihood a vascular surgery opinion (which you should absolutely pursue) will be that amputation is required. If this is not in the patient's goals of care, then the best you could achieve is to slow down the deterioration of the lesion, and to manage the significant pain that one would expect due to ischemia. For the latter, I presume you have already sought palliative care input. For the former, systemic antibiotics should be used sparingly, essentially to control rapid expansion, purulent discharge, and (arguable) flares in pain. For this, I suggest a short course of broad-spectrum therapy with anti-staph and anti-anaerobic coverage, and it should be oral (there is not enough potential benefit to justify the risks of IV therapy.)\")],\n",
       " 'generated_question': 'Help me with pain control in this 87-year-old woman with severe peripheral vascular disease/critical limb ischemia while she awaits further vascular intervention. The pain in her left foot is causing significant reduction in quality of life and is waking her from sleep. Acetaminophen is not effective to control the pain.'}"
      ]
     },
     "execution_count": 13,
     "metadata": {},
     "output_type": "execute_result"
    }
   ],
   "source": [
    "query = \"Help me with pain control in this 87 year old woman with severe peripheral vascular disease/critical limb ischemia while she awaits further vascular intervention. The pain in her left foot is causing significant reduction in quality of life and is waking her from sleep.   Acetaminophen is not effective to control the pain.\"\n",
    "qa.invoke(query)"
   ]
  },
  {
   "cell_type": "markdown",
   "id": "6ef5e6f3",
   "metadata": {},
   "source": [
    "# Local llm"
   ]
  },
  {
   "cell_type": "code",
   "execution_count": 13,
   "id": "01249423",
   "metadata": {},
   "outputs": [],
   "source": [
    "from langchain.callbacks.manager import CallbackManager\n",
    "from langchain.callbacks.streaming_stdout import StreamingStdOutCallbackHandler\n",
    "from langchain.chains import LLMChain\n",
    "from langchain.prompts import PromptTemplate\n",
    "from langchain_community.llms import LlamaCpp"
   ]
  },
  {
   "cell_type": "code",
   "execution_count": 14,
   "id": "0b979b16",
   "metadata": {},
   "outputs": [],
   "source": [
    "callback_manager = CallbackManager([StreamingStdOutCallbackHandler()])"
   ]
  },
  {
   "cell_type": "code",
   "execution_count": 15,
   "id": "d4dc539a",
   "metadata": {
    "scrolled": true
   },
   "outputs": [
    {
     "name": "stderr",
     "output_type": "stream",
     "text": [
      "llama_model_loader: loaded meta data with 19 key-value pairs and 363 tensors from C:/Users/pouri/Downloads/models/openorca-platypus2-13b.gguf.q4_0.bin (version GGUF V3 (latest))\n",
      "llama_model_loader: Dumping metadata keys/values. Note: KV overrides do not apply in this output.\n",
      "llama_model_loader: - kv   0:                       general.architecture str              = llama\n",
      "llama_model_loader: - kv   1:                               general.name str              = openorca-platypus2-13b.ggmlv3.q4_0.bin\n",
      "llama_model_loader: - kv   2:                        general.description str              = converted from legacy GGJTv3 MOSTLY_Q...\n",
      "llama_model_loader: - kv   3:                          general.file_type u32              = 2\n",
      "llama_model_loader: - kv   4:                       llama.context_length u32              = 2048\n",
      "llama_model_loader: - kv   5:                     llama.embedding_length u32              = 5120\n",
      "llama_model_loader: - kv   6:                          llama.block_count u32              = 40\n",
      "llama_model_loader: - kv   7:                  llama.feed_forward_length u32              = 13824\n",
      "llama_model_loader: - kv   8:                 llama.rope.dimension_count u32              = 128\n",
      "llama_model_loader: - kv   9:                 llama.attention.head_count u32              = 40\n",
      "llama_model_loader: - kv  10:              llama.attention.head_count_kv u32              = 40\n",
      "llama_model_loader: - kv  11:     llama.attention.layer_norm_rms_epsilon f32              = 0.000010\n",
      "llama_model_loader: - kv  12:                       tokenizer.ggml.model str              = llama\n",
      "llama_model_loader: - kv  13:                      tokenizer.ggml.tokens arr[str,32002]   = [\"<unk>\", \"<s>\", \"</s>\", \"<0x00>\", \"<...\n",
      "llama_model_loader: - kv  14:                      tokenizer.ggml.scores arr[f32,32002]   = [0.000000, 0.000000, 0.000000, 0.0000...\n",
      "llama_model_loader: - kv  15:                  tokenizer.ggml.token_type arr[i32,32002]   = [2, 3, 3, 6, 6, 6, 6, 6, 6, 6, 6, 6, ...\n",
      "llama_model_loader: - kv  16:            tokenizer.ggml.unknown_token_id u32              = 0\n",
      "llama_model_loader: - kv  17:                tokenizer.ggml.bos_token_id u32              = 1\n",
      "llama_model_loader: - kv  18:                tokenizer.ggml.eos_token_id u32              = 2\n",
      "llama_model_loader: - type  f32:   81 tensors\n",
      "llama_model_loader: - type q4_0:  282 tensors\n",
      "llm_load_vocab: mismatch in special tokens definition ( 261/32002 vs 259/32002 ).\n",
      "llm_load_print_meta: format           = GGUF V3 (latest)\n",
      "llm_load_print_meta: arch             = llama\n",
      "llm_load_print_meta: vocab type       = SPM\n",
      "llm_load_print_meta: n_vocab          = 32002\n",
      "llm_load_print_meta: n_merges         = 0\n",
      "llm_load_print_meta: n_ctx_train      = 2048\n",
      "llm_load_print_meta: n_embd           = 5120\n",
      "llm_load_print_meta: n_head           = 40\n",
      "llm_load_print_meta: n_head_kv        = 40\n",
      "llm_load_print_meta: n_layer          = 40\n",
      "llm_load_print_meta: n_rot            = 128\n",
      "llm_load_print_meta: n_embd_head_k    = 128\n",
      "llm_load_print_meta: n_embd_head_v    = 128\n",
      "llm_load_print_meta: n_gqa            = 1\n",
      "llm_load_print_meta: n_embd_k_gqa     = 5120\n",
      "llm_load_print_meta: n_embd_v_gqa     = 5120\n",
      "llm_load_print_meta: f_norm_eps       = 0.0e+00\n",
      "llm_load_print_meta: f_norm_rms_eps   = 1.0e-05\n",
      "llm_load_print_meta: f_clamp_kqv      = 0.0e+00\n",
      "llm_load_print_meta: f_max_alibi_bias = 0.0e+00\n",
      "llm_load_print_meta: n_ff             = 13824\n",
      "llm_load_print_meta: n_expert         = 0\n",
      "llm_load_print_meta: n_expert_used    = 0\n",
      "llm_load_print_meta: pooling type     = 0\n",
      "llm_load_print_meta: rope type        = 0\n",
      "llm_load_print_meta: rope scaling     = linear\n",
      "llm_load_print_meta: freq_base_train  = 10000.0\n",
      "llm_load_print_meta: freq_scale_train = 1\n",
      "llm_load_print_meta: n_yarn_orig_ctx  = 2048\n",
      "llm_load_print_meta: rope_finetuned   = unknown\n",
      "llm_load_print_meta: model type       = 13B\n",
      "llm_load_print_meta: model ftype      = Q4_0\n",
      "llm_load_print_meta: model params     = 13.02 B\n",
      "llm_load_print_meta: model size       = 6.82 GiB (4.50 BPW) \n",
      "llm_load_print_meta: general.name     = openorca-platypus2-13b.ggmlv3.q4_0.bin\n",
      "llm_load_print_meta: BOS token        = 1 '<s>'\n",
      "llm_load_print_meta: EOS token        = 2 '</s>'\n",
      "llm_load_print_meta: UNK token        = 0 '<unk>'\n",
      "llm_load_print_meta: LF token         = 13 '<0x0A>'\n",
      "llm_load_tensors: ggml ctx size =    0.14 MiB\n",
      "llm_load_tensors:        CPU buffer size =  6983.62 MiB\n",
      "....................................................................................................\n",
      "llama_new_context_with_model: n_ctx      = 512\n",
      "llama_new_context_with_model: freq_base  = 10000.0\n",
      "llama_new_context_with_model: freq_scale = 1\n",
      "llama_kv_cache_init:        CPU KV buffer size =   400.00 MiB\n",
      "llama_new_context_with_model: KV self size  =  400.00 MiB, K (f16):  200.00 MiB, V (f16):  200.00 MiB\n",
      "llama_new_context_with_model:        CPU input buffer size   =     0.18 MiB\n",
      "llama_new_context_with_model:        CPU compute buffer size =     1.25 MiB\n",
      "llama_new_context_with_model: graph splits (measure): 1\n",
      "AVX = 1 | AVX_VNNI = 0 | AVX2 = 1 | AVX512 = 0 | AVX512_VBMI = 0 | AVX512_VNNI = 0 | FMA = 1 | NEON = 0 | ARM_FMA = 0 | F16C = 1 | FP16_VA = 0 | WASM_SIMD = 0 | BLAS = 0 | SSE3 = 1 | SSSE3 = 0 | VSX = 0 | MATMUL_INT8 = 0 | \n",
      "Model metadata: {'general.name': 'openorca-platypus2-13b.ggmlv3.q4_0.bin', 'general.architecture': 'llama', 'llama.feed_forward_length': '13824', 'general.description': 'converted from legacy GGJTv3 MOSTLY_Q4_0 format', 'llama.embedding_length': '5120', 'tokenizer.ggml.eos_token_id': '2', 'llama.attention.head_count_kv': '40', 'general.file_type': '2', 'llama.context_length': '2048', 'llama.block_count': '40', 'llama.rope.dimension_count': '128', 'llama.attention.head_count': '40', 'llama.attention.layer_norm_rms_epsilon': '0.000010', 'tokenizer.ggml.model': 'llama', 'tokenizer.ggml.unknown_token_id': '0', 'tokenizer.ggml.bos_token_id': '1'}\n",
      "Using fallback chat format: None\n"
     ]
    }
   ],
   "source": [
    "llm = LlamaCpp(\n",
    "    model_path=\"C:/Users/pouri/Downloads/models/openorca-platypus2-13b.gguf.q4_0.bin\",\n",
    "    temperature=0.75,\n",
    "    max_tokens=2000,\n",
    "    top_p=0.95,\n",
    "    callback_manager=callback_manager,\n",
    "    verbose=True,\n",
    ")"
   ]
  },
  {
   "cell_type": "code",
   "execution_count": 16,
   "id": "4afb3196",
   "metadata": {},
   "outputs": [],
   "source": [
    "class QA:\n",
    "    def __init__(self):\n",
    "        self.llm = llm\n",
    "        self.memory = ConversationSummaryBufferMemory(llm=self.llm, max_token_limit=100, memory_key='chat_history', output_key='answer')\n",
    "        self.chain_of_thought_prompt = PromptTemplate(\n",
    "            input_variables=[\"question\"],\n",
    "            template=(\n",
    "                \"Let's think through this step by step to arrive at the best possible answer.\\n\"\n",
    "                \"I want you to think that you are the specialist and are providing the answer.\\n\"\n",
    "                \"Also answer like a pro.\\n\"\n",
    "                \"Question: {question}\\n\"\n",
    "                \"Answer:\"\n",
    "            )\n",
    "        )\n",
    "        \n",
    "    def load_db(self, qapairs, chain_type, k):\n",
    "        documents = qapairs\n",
    "    \n",
    "        text_splitter = RecursiveCharacterTextSplitter(chunk_size=450, chunk_overlap=150)\n",
    "        docs = text_splitter.split_documents(documents)\n",
    "        \n",
    "        embeddings = OpenAIEmbeddings()\n",
    "        \n",
    "        db = DocArrayInMemorySearch.from_documents(docs, embeddings)\n",
    "        \n",
    "        retriever = db.as_retriever(search_type=\"similarity\", search_kwargs={\"k\": k})\n",
    "        \n",
    "        self.qa = ConversationalRetrievalChain.from_llm(\n",
    "            llm=self.llm, \n",
    "            chain_type=chain_type, \n",
    "            retriever=retriever, \n",
    "            return_source_documents=True,\n",
    "            return_generated_question=True, \n",
    "            memory = self.memory, \n",
    "            get_chat_history = lambda h : h\n",
    "        )\n",
    "\n",
    "    def invoke(self, query):\n",
    "        chain_of_thought_query = self.chain_of_thought_prompt.format(question=query)\n",
    "        \n",
    "        result = self.qa({\"question\": chain_of_thought_query})\n",
    "        \n",
    "        #print(result)\n",
    "        #self.memory.save_context({\"input\": query}, \n",
    "        #                         {\"output\": result[\"answer\"]})\n",
    "        return result"
   ]
  },
  {
   "cell_type": "code",
   "execution_count": 17,
   "id": "f37e9957",
   "metadata": {},
   "outputs": [
    {
     "name": "stdout",
     "output_type": "stream",
     "text": [
      "CPU times: total: 11.2 s\n",
      "Wall time: 31 s\n"
     ]
    }
   ],
   "source": [
    "%%time\n",
    "qa = QA()\n",
    "qa.load_db(qapairs, \"stuff\", 3)"
   ]
  },
  {
   "cell_type": "code",
   "execution_count": 154,
   "id": "df179c6a",
   "metadata": {},
   "outputs": [
    {
     "name": "stdout",
     "output_type": "stream",
     "text": [
      " Considering this patient's decline despite being on donepezil for several years, it might be"
     ]
    },
    {
     "name": "stderr",
     "output_type": "stream",
     "text": [
      "\n",
      "llama_print_timings:        load time =   66371.53 ms\n",
      "llama_print_timings:      sample time =       9.75 ms /    21 runs   (    0.46 ms per token,  2154.73 tokens per second)\n",
      "llama_print_timings: prompt eval time = 1929442.87 ms /   491 tokens ( 3929.62 ms per token,     0.25 tokens per second)\n",
      "llama_print_timings:        eval time =    7935.82 ms /    20 runs   (  396.79 ms per token,     2.52 tokens per second)\n",
      "llama_print_timings:       total time = 1937989.16 ms /   511 tokens\n",
      "Llama.generate: prefix-match hit\n"
     ]
    },
    {
     "name": "stdout",
     "output_type": "stream",
     "text": [
      "\n",
      "Human seeks expert opinion on potential benefits of Vitamin A and gemfibrozil for dementia patients. Specialist recommends considering their use separately or in combination, citing promising results from a study.\n",
      "END OF EXAMPLE"
     ]
    },
    {
     "name": "stderr",
     "output_type": "stream",
     "text": [
      "\n",
      "llama_print_timings:        load time =   66371.53 ms\n",
      "llama_print_timings:      sample time =      21.18 ms /    54 runs   (    0.39 ms per token,  2549.33 tokens per second)\n",
      "llama_print_timings: prompt eval time =   98078.82 ms /   306 tokens (  320.52 ms per token,     3.12 tokens per second)\n",
      "llama_print_timings:        eval time =   23472.61 ms /    53 runs   (  442.88 ms per token,     2.26 tokens per second)\n",
      "llama_print_timings:       total time =  122059.58 ms /   359 tokens\n"
     ]
    },
    {
     "data": {
      "text/plain": [
       "{'question': \"Let's think through this step by step to arrive at the best possible answer.\\nI want you to think that you are the specialist and are providing the answer.\\nAlso answer like a pro.\\nQuestion: This man is on donepezil for several years. He has continued to decline, especially over the past year with increasing incontinence, behavioural aggression, and reduced mobility.   I listened with interest of a study that reports that combination of Vit A and gemfibrozil yielded positive results in cognition of dementia patients.   Can you please comment and whether this might be worthwhile trying in our dementia patients, either separately or in combination?\\nAnswer:\",\n",
       " 'chat_history': '',\n",
       " 'answer': \" Considering this patient's decline despite being on donepezil for several years, it might be\",\n",
       " 'source_documents': [Document(page_content='This 87 year old gentleman has been diagnosed with dementia and is on donepezil for several years. He has continued to decline, especially over the past year with increasing incontinence, behavioural aggression, and reduced mobility.   I listened with interest of a study that reports that combination of Vit A and gemfibrozil yielded positive results in cognition of dementia patients.   Can you please comment and whether this might be worthwhile'),\n",
       "  Document(page_content=\"of Vit A and gemfibrozil yielded positive results in cognition of dementia patients.   Can you please comment and whether this might be worthwhile trying in our dementia patients, either separately or in combination?   Thank you and I look forward to hearing back from you.eConsult createdPCP asked add'l question: You are indeed correct - it looks like the study was in reference to mice.\"),\n",
       "  Document(page_content='While there is hints of evidence of adequate management of vascular risk factors (specifically blood pressure) to reduce the conversion of MCI to dementia (and then perhaps extrapolated to slow cognitive decline) I am also not aware of any specific studies with gemfibrozil. The Canadian Consensus Conference of treatment and diagnosis of Dementia did publish their comprehensive guidance last summer on the best management to prevention')],\n",
       " 'generated_question': \"Let's think through this step by step to arrive at the best possible answer.\\nI want you to think that you are the specialist and are providing the answer.\\nAlso answer like a pro.\\nQuestion: This man is on donepezil for several years. He has continued to decline, especially over the past year with increasing incontinence, behavioural aggression, and reduced mobility.   I listened with interest of a study that reports that combination of Vit A and gemfibrozil yielded positive results in cognition of dementia patients.   Can you please comment and whether this might be worthwhile trying in our dementia patients, either separately or in combination?\\nAnswer:\"}"
      ]
     },
     "execution_count": 154,
     "metadata": {},
     "output_type": "execute_result"
    }
   ],
   "source": [
    "query = \"This man is on donepezil for several years. He has continued to decline, especially over the past year with increasing incontinence, behavioural aggression, and reduced mobility.   I listened with interest of a study that reports that combination of Vit A and gemfibrozil yielded positive results in cognition of dementia patients.   Can you please comment and whether this might be worthwhile trying in our dementia patients, either separately or in combination?\"\n",
    "qa.invoke(query)"
   ]
  },
  {
   "cell_type": "code",
   "execution_count": null,
   "id": "00a02fea",
   "metadata": {},
   "outputs": [],
   "source": [
    "query = \"With the frequent PVCs is it still safe to prescribe a QT prolonging medication to help with his dementia ie aricept? \"\n",
    "qa.invoke(query)"
   ]
  },
  {
   "cell_type": "code",
   "execution_count": null,
   "id": "7569b83a",
   "metadata": {},
   "outputs": [],
   "source": []
  }
 ],
 "metadata": {
  "kernelspec": {
   "display_name": "langchain_env",
   "language": "python",
   "name": "langchain_env"
  },
  "language_info": {
   "codemirror_mode": {
    "name": "ipython",
    "version": 3
   },
   "file_extension": ".py",
   "mimetype": "text/x-python",
   "name": "python",
   "nbconvert_exporter": "python",
   "pygments_lexer": "ipython3",
   "version": "3.12.2"
  }
 },
 "nbformat": 4,
 "nbformat_minor": 5
}
