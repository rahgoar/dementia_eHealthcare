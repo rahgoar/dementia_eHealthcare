{
  "nbformat": 4,
  "nbformat_minor": 0,
  "metadata": {
    "colab": {
      "provenance": [],
      "authorship_tag": "ABX9TyPgY+kj59UxGs+b2hZguG15",
      "include_colab_link": true
    },
    "kernelspec": {
      "name": "python3",
      "display_name": "Python 3"
    },
    "language_info": {
      "name": "python"
    }
  },
  "cells": [
    {
      "cell_type": "markdown",
      "metadata": {
        "id": "view-in-github",
        "colab_type": "text"
      },
      "source": [
        "<a href=\"https://colab.research.google.com/github/rahgoar/dementia_eHealthcare/blob/main/Job_assignment_v1.ipynb\" target=\"_parent\"><img src=\"https://colab.research.google.com/assets/colab-badge.svg\" alt=\"Open In Colab\"/></a>"
      ]
    },
    {
      "cell_type": "markdown",
      "source": [
        "A bipartite graph is a graph whose vertices can be divided into two disjoint sets U and V such that every edge connects a vertex in U to a vertex in V. The assignment problem is to find a perfect matching in a bipartite graph, where each vertex in U is matched to exactly one vertex in V."
      ],
      "metadata": {
        "id": "PB5G2RjUScJv"
      }
    },
    {
      "cell_type": "code",
      "execution_count": null,
      "metadata": {
        "id": "wI4x4vTJGq2F"
      },
      "outputs": [],
      "source": [
        "\n",
        "# Python program to find\n",
        "# maximal Bipartite matching.\n",
        "\n",
        "class GFG:\n",
        "    def __init__(self,graph):\n",
        "\n",
        "        # residual graph\n",
        "        self.graph = graph\n",
        "        self.ppl = len(graph)\n",
        "        self.jobs = len(graph[0])\n",
        "\n",
        "    # A DFS based recursive function\n",
        "    # that returns true if a matching\n",
        "    # for vertex u is possible\n",
        "    def bpm(self, u, matchR, seen):\n",
        "\n",
        "        # Try every job one by one\n",
        "        for v in range(self.jobs):\n",
        "\n",
        "            # If applicant u is interested\n",
        "            # in job v and v is not seen\n",
        "            if self.graph[u][v] and seen[v] == False:\n",
        "\n",
        "                # Mark v as visited\n",
        "                seen[v] = True\n",
        "\n",
        "                '''If job 'v' is not assigned to\n",
        "                an applicant OR previously assigned\n",
        "                   applicant for job v (which is matchR[v])\n",
        "                   has an alternate job available.\n",
        "                   Since v is marked as visited in the\n",
        "                   above line, matchR[v]  in the following\n",
        "                   recursive call will not get job 'v' again'''\n",
        "                if matchR[v] == -1 or self.bpm(matchR[v],\n",
        "                                               matchR, seen):\n",
        "                    matchR[v] = u\n",
        "                    return True\n",
        "        return False\n",
        "\n",
        "    # Returns maximum number of matching\n",
        "    def maxBPM(self):\n",
        "        '''An array to keep track of the\n",
        "           applicants assigned to jobs.\n",
        "           The value of matchR[i] is the\n",
        "           applicant number assigned to job i,\n",
        "           the value -1 indicates nobody is assigned.'''\n",
        "        matchR = [-1] * self.jobs\n",
        "\n",
        "        # Count of jobs assigned to applicants\n",
        "        result = 0\n",
        "        for i in range(self.ppl):\n",
        "\n",
        "            # Mark all jobs as not seen for next applicant.\n",
        "            seen = [False] * self.jobs\n",
        "\n",
        "            # Find if the applicant 'u' can get a job\n",
        "            if self.bpm(i, matchR, seen):\n",
        "                result += 1\n",
        "        return result\n",
        "bpGraph =[[0, 1, 1, 0, 0, 0],\n",
        "          [1, 0, 0, 1, 0, 0],\n",
        "          [0, 0, 1, 0, 0, 0],\n",
        "          [0, 0, 1, 1, 0, 0],\n",
        "          [0, 0, 0, 0, 0, 0],\n",
        "          [0, 0, 0, 0, 0, 1]]\n",
        "\n",
        "g = GFG(bpGraph)\n",
        "\n",
        "print (\"Maximum number of applicants that can get job is %d \" % g.maxBPM())\n",
        "\n",
        "# This code is contributed by Neelam Yadav"
      ]
    },
    {
      "cell_type": "code",
      "source": [
        "# greedy search to find the best (Max, Min) correspondence based on the associated Cohen Kappa.\n",
        "def best_kappa_mapping(df):\n",
        "    book_numbers = sorted(df['actual_labels'].unique())\n",
        "    cluster_numbers = sorted(df['cluster_labels'].unique())\n",
        "\n",
        "    # Ensure there is a valid mapping\n",
        "    assert len(book_numbers) == len(cluster_numbers), \"Number of unique book numbers and cluster numbers must be the same\"\n",
        "\n",
        "    best_kappa = -1\n",
        "    best_mapping = {}\n",
        "\n",
        "    # Iterate through all possible permutations of book numbers\n",
        "    for perm in permutations(book_numbers):\n",
        "        cluster_mapping = {cluster: book for cluster, book in zip(cluster_numbers, perm)}\n",
        "        # Map clusters to book numbers based on current permutation\n",
        "        mapped_clusters = df['cluster'].map(cluster_mapping)\n",
        "        # Calculate Cohen's Kappa score\n",
        "        kappa = cohen_kappa_score(df['book_number'], mapped_clusters)\n",
        "        #print(kappa)\n",
        "        # Update best mapping if this permutation has the highest Kappa score\n",
        "        if kappa > best_kappa:\n",
        "            best_kappa = kappa\n",
        "            best_mapping = cluster_mapping\n",
        "    print(f\"best kappa: {best_kappa}\")\n",
        "    print(f\"best mapping: {best_mapping}\")\n",
        "    return best_mapping"
      ],
      "metadata": {
        "id": "Suqj9RQSPdDF"
      },
      "execution_count": null,
      "outputs": []
    },
    {
      "cell_type": "code",
      "source": [
        "# Best mapping based on the optimized reward. Optimization formulation.\n",
        "from pulp import LpProblem,LpVariable,LpMaximize,lpSum,LpStatus,value\n",
        "\n",
        "def mapping_labels(y_pred,y_label):\n",
        "  M= construct_assignment_matrix(y_pred,y_label)\n",
        "\n",
        "  prob = LpProblem(\"Max_Matching\", LpMaximize)\n",
        "  var_name_prefix = 'IsSelected'\n",
        "  N = 5\n",
        "  vars = LpVariable.dicts(\"Choice\", (range(N), range(N)), cat=\"Binary\")\n",
        "\n",
        "  objective_func = lpSum([vars[i][j]*M[i][j] for i in range(N) for j in range(N)]), \"Total_correct_classes\"\n",
        "  prob += objective_func\n",
        "  for i in range(N):\n",
        "    prob += lpSum([vars[i][j] for j in range(N)]) ==1 , f\"row_{i}\"\n",
        "\n",
        "  for j in range(N):\n",
        "    prob += lpSum([vars[i][j] for i in range(N)]) ==1, f\"column_{j}\"\n",
        "\n",
        "  #prob.writeLP(\"MaximumMatching.lp\")\n",
        "\n",
        "  prob.solve()\n",
        "\n",
        "  #print(\"Status:\", LpStatus[prob.status])\n",
        "\n",
        "  cluster_to_class = {}\n",
        "  for v in prob.variables():\n",
        "      if v.varValue>0.1: #working with float :)\n",
        "        _,cluster,class_id = v.name.split('_')\n",
        "        cluster_to_class[int(cluster)] = int(class_id)\n",
        "  y_pred_class = np.zeros(y_pred.shape)\n",
        "  for i,r in enumerate(y_pred):\n",
        "    y_pred_class[i] = cluster_to_class[r]\n",
        "\n",
        "  return y_pred_class, cluster_to_class"
      ],
      "metadata": {
        "id": "7aw9VF7QP9jR"
      },
      "execution_count": null,
      "outputs": []
    },
    {
      "cell_type": "markdown",
      "source": [
        "Limitations: It's primarily suitable for bipartite graphs with complete matchings. For more complex matching problems, other algorithms like the Hopcroft-Karp algorithm might be more appropriate.\n",
        "\n",
        "1-Cost Matrix: We represent the bipartite graph as a cost matrix, where each element cost_matrix[i, j] represents the cost of assigning the i-th node in one set to the j-th node in the other set.\n",
        "2-Linear Sum Assignment: The linear_sum_assignment function from scipy.optimize efficiently solves the assignment problem by reducing it to a minimum weight matching problem in a bipartite graph.\n",
        "3-Output: The function returns two arrays, row_ind and col_ind, indicating the optimal assignment."
      ],
      "metadata": {
        "id": "Ci6hvtKeSJ8F"
      }
    },
    {
      "cell_type": "code",
      "source": [
        "#The Hungarian algorithm, also known as the Munkres algorithm\n",
        "\n",
        "import numpy as np\n",
        "from scipy.optimize import linear_sum_assignment\n",
        "\n",
        "def hungarian_algorithm(cost_matrix):\n",
        "    \"\"\"\n",
        "    Finds the optimal assignment for a bipartite graph using the Hungarian algorithm.\n",
        "\n",
        "    Args:\n",
        "        cost_matrix: A 2D numpy array representing the cost matrix.\n",
        "\n",
        "    Returns:\n",
        "        A tuple (row_ind, col_ind) representing the optimal assignment.\n",
        "    \"\"\"\n",
        "\n",
        "    row_ind, col_ind = linear_sum_assignment(cost_matrix)\n",
        "    return row_ind, col_ind\n",
        "\n",
        "# Example usage:\n",
        "cost_matrix = np.array([[10, 15, 20],\n",
        "                        [5, 25, 10],\n",
        "                        [15, 5, 15]])\n",
        "\n",
        "row_ind, col_ind = hungarian_algorithm(cost_matrix)\n",
        "\n",
        "print(\"Optimal assignment:\")\n",
        "for i, j in zip(row_ind, col_ind):\n",
        "    print(f\"Row {i} is assigned to Column {j} with cost {cost_matrix[i, j]}\")"
      ],
      "metadata": {
        "id": "aLZb5gtORyZQ"
      },
      "execution_count": null,
      "outputs": []
    }
  ]
}